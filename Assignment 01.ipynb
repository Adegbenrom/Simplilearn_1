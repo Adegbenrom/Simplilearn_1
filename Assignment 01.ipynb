{
 "cells": [
  {
   "cell_type": "markdown",
   "metadata": {},
   "source": [
    "<img src=\"http://cfs22.simplicdn.net/ice9/new_logo.svgz \"/>\n",
    "\n",
    "# Assignment 01: Evaluate the GDP Dataset\n",
    "\n",
    "*The comments/sections provided are your cues to perform the assignment. You don't need to limit yourself to the number of rows/cells provided. You can add additional rows in each section to add more lines of code.*\n",
    "\n",
    "*If at any point in time you need help on solving this assignment, view our demo video to understand the different steps of the code.*\n",
    "\n",
    "**Happy coding!**\n",
    "\n",
    "* * *"
   ]
  },
  {
   "cell_type": "markdown",
   "metadata": {},
   "source": [
    "#### 1: View and add the dataset"
   ]
  },
  {
   "cell_type": "code",
   "execution_count": 9,
   "metadata": {},
   "outputs": [],
   "source": [
    "#Import required library\n",
    "import numpy as np\n",
    "from numpy import argmax\n"
   ]
  },
  {
   "cell_type": "code",
   "execution_count": 12,
   "metadata": {},
   "outputs": [],
   "source": [
    "#Manually add the dataset\n",
    "countries =np.array(['Algeria','Angola','Argentina','Australia','Austria',\n",
    "                    'Bahamas','Bangladesh','Belarus','Belgium','Bhutan','Brazil',\n",
    "                    'Bulgaria','Cambodia','Cameroon','Chile','China','Colombia',\n",
    "                    'Cyprus','Denmark','El Salvador','Estonia','Ethiopia','Fiji',\n",
    "                    'Finland','France','Georgia','Ghana','Grenada','Guinea','Haiti',\n",
    "                    'Honduras','Hungary','India','Indonesia','Ireland','Italy','Japan',\n",
    "                    'Kenya', 'South Korea','Liberia','Malaysia','Mexico', 'Morocco','Nepal',\n",
    "                    'New Zealand','Norway','Pakistan', 'Peru','Qatar','Russia','Singapore',\n",
    "                    'South Africa','Spain','Sweden','Switzerland','Thailand', 'United Arab Emirates',\n",
    "                    'United Kingdom','United States','Uruguay','Venezuela','Vietnam','Zimbabwe'])\n"
   ]
  },
  {
   "cell_type": "code",
   "execution_count": 13,
   "metadata": {},
   "outputs": [],
   "source": [
    "\n",
    "GDP =np.array([2255.225482,629.9553062,11601.63022,25306.82494,27266.40335,19466.99052,\n",
    "                       588.3691778,2890.345675,24733.62696,1445.760002,4803.398244,2618.876037,\n",
    "                       590.4521124,665.7982328,7122.938458,2639.54156,3362.4656,15378.16704,30860.12808,\n",
    "                       2579.115607,6525.541272,229.6769525,2242.689259,27570.4852,23016.84778,1334.646773,\n",
    "                       402.6953275,6047.200797,394.1156638,385.5793827,1414.072488,5745.981529,837.7464011,\n",
    "                       1206.991065,27715.52837,18937.24998,39578.07441,478.2194906,16684.21278,279.2204061,\n",
    "                       5345.213415,6288.25324,1908.304416,274.8728621,14646.42094,40034.85063,672.1547506,\n",
    "                       3359.517402,36152.66676,3054.727742,33529.83052,3825.093781,15428.32098,33630.24604,\n",
    "                       39170.41371,2699.123242,21058.43643,28272.40661,37691.02733,9581.05659,5671.912202,\n",
    "                       757.4009286,347.7456605])\n"
   ]
  },
  {
   "cell_type": "markdown",
   "metadata": {
    "collapsed": true
   },
   "source": [
    "#### 2: Find and print the name of the country with the highest GDP"
   ]
  },
  {
   "cell_type": "code",
   "execution_count": 57,
   "metadata": {},
   "outputs": [
    {
     "data": {
      "text/plain": [
       "40034.85063"
      ]
     },
     "execution_count": 57,
     "metadata": {},
     "output_type": "execute_result"
    }
   ],
   "source": [
    "#Use the argmax() method to find the highest GDP\n",
    "higest_GDP = GDP.argmax()\n",
    "GDP[GDP.argmax()]\n"
   ]
  },
  {
   "cell_type": "code",
   "execution_count": 16,
   "metadata": {},
   "outputs": [
    {
     "data": {
      "text/plain": [
       "'Norway'"
      ]
     },
     "execution_count": 16,
     "metadata": {},
     "output_type": "execute_result"
    }
   ],
   "source": [
    "#Print the name of the country\n",
    "countries[higest_GDP]\n"
   ]
  },
  {
   "cell_type": "markdown",
   "metadata": {},
   "source": [
    "#### 3: Find and print the name of the country with the lowest GDP"
   ]
  },
  {
   "cell_type": "code",
   "execution_count": 17,
   "metadata": {},
   "outputs": [
    {
     "data": {
      "text/plain": [
       "229.6769525"
      ]
     },
     "execution_count": 17,
     "metadata": {},
     "output_type": "execute_result"
    }
   ],
   "source": [
    "#Use the argmin() method to find the lowest GDP\n",
    "lowest_GDP = np.argmin(GDP)\n",
    "GDP[lowest_GDP]\n"
   ]
  },
  {
   "cell_type": "code",
   "execution_count": 7,
   "metadata": {},
   "outputs": [
    {
     "data": {
      "text/plain": [
       "'Ethiopia'"
      ]
     },
     "execution_count": 7,
     "metadata": {},
     "output_type": "execute_result"
    }
   ],
   "source": [
    "#Print the name of the country\n",
    "countries[lowest_GDP]"
   ]
  },
  {
   "cell_type": "markdown",
   "metadata": {},
   "source": [
    "#### 4: Print out text ('evaluating country') and input value ('country name') iteratively"
   ]
  },
  {
   "cell_type": "code",
   "execution_count": 18,
   "metadata": {},
   "outputs": [
    {
     "name": "stdout",
     "output_type": "stream",
     "text": [
      "evaluating country Algeria\n",
      "evaluating country Angola\n",
      "evaluating country Argentina\n",
      "evaluating country Australia\n",
      "evaluating country Austria\n",
      "evaluating country Bahamas\n",
      "evaluating country Bangladesh\n",
      "evaluating country Belarus\n",
      "evaluating country Belgium\n",
      "evaluating country Bhutan\n",
      "evaluating country Brazil\n",
      "evaluating country Bulgaria\n",
      "evaluating country Cambodia\n",
      "evaluating country Cameroon\n",
      "evaluating country Chile\n",
      "evaluating country China\n",
      "evaluating country Colombia\n",
      "evaluating country Cyprus\n",
      "evaluating country Denmark\n",
      "evaluating country El Salvador\n",
      "evaluating country Estonia\n",
      "evaluating country Ethiopia\n",
      "evaluating country Fiji\n",
      "evaluating country Finland\n",
      "evaluating country France\n",
      "evaluating country Georgia\n",
      "evaluating country Ghana\n",
      "evaluating country Grenada\n",
      "evaluating country Guinea\n",
      "evaluating country Haiti\n",
      "evaluating country Honduras\n",
      "evaluating country Hungary\n",
      "evaluating country India\n",
      "evaluating country Indonesia\n",
      "evaluating country Ireland\n",
      "evaluating country Italy\n",
      "evaluating country Japan\n",
      "evaluating country Kenya\n",
      "evaluating country South Korea\n",
      "evaluating country Liberia\n",
      "evaluating country Malaysia\n",
      "evaluating country Mexico\n",
      "evaluating country Morocco\n",
      "evaluating country Nepal\n",
      "evaluating country New Zealand\n",
      "evaluating country Norway\n",
      "evaluating country Pakistan\n",
      "evaluating country Peru\n",
      "evaluating country Qatar\n",
      "evaluating country Russia\n",
      "evaluating country Singapore\n",
      "evaluating country South Africa\n",
      "evaluating country Spain\n",
      "evaluating country Sweden\n",
      "evaluating country Switzerland\n",
      "evaluating country Thailand\n",
      "evaluating country United Arab Emirates\n",
      "evaluating country United Kingdom\n",
      "evaluating country United States\n",
      "evaluating country Uruguay\n",
      "evaluating country Venezuela\n",
      "evaluating country Vietnam\n",
      "evaluating country Zimbabwe\n"
     ]
    }
   ],
   "source": [
    "#Use a for loop to print the required output\n",
    "for country in countries:\n",
    "    print(f'evaluating country {country}')\n",
    "\n",
    "\n"
   ]
  },
  {
   "cell_type": "code",
   "execution_count": 34,
   "metadata": {},
   "outputs": [
    {
     "name": "stdout",
     "output_type": "stream",
     "text": [
      "[{'Algeria': 2255.225482, 'Angola': 629.9553062, 'Argentina': 11601.63022, 'Australia': 25306.82494, 'Austria': 27266.40335, 'Bahamas': 19466.99052, 'Bangladesh': 588.3691778, 'Belarus': 2890.345675, 'Belgium': 24733.62696, 'Bhutan': 1445.760002, 'Brazil': 4803.398244, 'Bulgaria': 2618.876037, 'Cambodia': 590.4521124, 'Cameroon': 665.7982328, 'Chile': 7122.938458, 'China': 2639.54156, 'Colombia': 3362.4656, 'Cyprus': 15378.16704, 'Denmark': 30860.12808, 'El Salvador': 2579.115607, 'Estonia': 6525.541272, 'Ethiopia': 229.6769525, 'Fiji': 2242.689259, 'Finland': 27570.4852, 'France': 23016.84778, 'Georgia': 1334.646773, 'Ghana': 402.6953275, 'Grenada': 6047.200797, 'Guinea': 394.1156638, 'Haiti': 385.5793827, 'Honduras': 1414.072488, 'Hungary': 5745.981529, 'India': 837.7464011, 'Indonesia': 1206.991065, 'Ireland': 27715.52837, 'Italy': 18937.24998, 'Japan': 39578.07441, 'Kenya': 478.2194906, 'South Korea': 16684.21278, 'Liberia': 279.2204061, 'Malaysia': 5345.213415, 'Mexico': 6288.25324, 'Morocco': 1908.304416, 'Nepal': 274.8728621, 'New Zealand': 14646.42094, 'Norway': 40034.85063, 'Pakistan': 672.1547506, 'Peru': 3359.517402, 'Qatar': 36152.66676, 'Russia': 3054.727742, 'Singapore': 33529.83052, 'South Africa': 3825.093781, 'Spain': 15428.32098, 'Sweden': 33630.24604, 'Switzerland': 39170.41371, 'Thailand': 2699.123242, 'United Arab Emirates': 21058.43643, 'United Kingdom': 28272.40661, 'United States': 37691.02733, 'Uruguay': 9581.05659, 'Venezuela': 5671.912202, 'Vietnam': 757.4009286, 'Zimbabwe': 347.7456605}]\n"
     ]
    }
   ],
   "source": [
    "\n",
    "array = dict(zip(countries, GDP))\n",
    "print([array])\n"
   ]
  },
  {
   "cell_type": "code",
   "execution_count": 33,
   "metadata": {},
   "outputs": [
    {
     "name": "stdout",
     "output_type": "stream",
     "text": [
      "Algeria GDP is 2255.225482\n",
      "Angola GDP is 629.9553062\n",
      "Argentina GDP is 11601.63022\n",
      "Australia GDP is 25306.82494\n",
      "Austria GDP is 27266.40335\n",
      "Bahamas GDP is 19466.99052\n",
      "Bangladesh GDP is 588.3691778\n",
      "Belarus GDP is 2890.345675\n",
      "Belgium GDP is 24733.62696\n",
      "Bhutan GDP is 1445.760002\n",
      "Brazil GDP is 4803.398244\n",
      "Bulgaria GDP is 2618.876037\n",
      "Cambodia GDP is 590.4521124\n",
      "Cameroon GDP is 665.7982328\n",
      "Chile GDP is 7122.938458\n",
      "China GDP is 2639.54156\n",
      "Colombia GDP is 3362.4656\n",
      "Cyprus GDP is 15378.16704\n",
      "Denmark GDP is 30860.12808\n",
      "El Salvador GDP is 2579.115607\n",
      "Estonia GDP is 6525.541272\n",
      "Ethiopia GDP is 229.6769525\n",
      "Fiji GDP is 2242.689259\n",
      "Finland GDP is 27570.4852\n",
      "France GDP is 23016.84778\n",
      "Georgia GDP is 1334.646773\n",
      "Ghana GDP is 402.6953275\n",
      "Grenada GDP is 6047.200797\n",
      "Guinea GDP is 394.1156638\n",
      "Haiti GDP is 385.5793827\n",
      "Honduras GDP is 1414.072488\n",
      "Hungary GDP is 5745.981529\n",
      "India GDP is 837.7464011\n",
      "Indonesia GDP is 1206.991065\n",
      "Ireland GDP is 27715.52837\n",
      "Italy GDP is 18937.24998\n",
      "Japan GDP is 39578.07441\n",
      "Kenya GDP is 478.2194906\n",
      "South Korea GDP is 16684.21278\n",
      "Liberia GDP is 279.2204061\n",
      "Malaysia GDP is 5345.213415\n",
      "Mexico GDP is 6288.25324\n",
      "Morocco GDP is 1908.304416\n",
      "Nepal GDP is 274.8728621\n",
      "New Zealand GDP is 14646.42094\n",
      "Norway GDP is 40034.85063\n",
      "Pakistan GDP is 672.1547506\n",
      "Peru GDP is 3359.517402\n",
      "Qatar GDP is 36152.66676\n",
      "Russia GDP is 3054.727742\n",
      "Singapore GDP is 33529.83052\n",
      "South Africa GDP is 3825.093781\n",
      "Spain GDP is 15428.32098\n",
      "Sweden GDP is 33630.24604\n",
      "Switzerland GDP is 39170.41371\n",
      "Thailand GDP is 2699.123242\n",
      "United Arab Emirates GDP is 21058.43643\n",
      "United Kingdom GDP is 28272.40661\n",
      "United States GDP is 37691.02733\n",
      "Uruguay GDP is 9581.05659\n",
      "Venezuela GDP is 5671.912202\n",
      "Vietnam GDP is 757.4009286\n",
      "Zimbabwe GDP is 347.7456605\n"
     ]
    }
   ],
   "source": [
    "for i in range(len(countries)):\n",
    "    country = countries[i]\n",
    "    gdp = GDP[i]\n",
    "    print(f\"{country} GDP is {gdp}\")"
   ]
  },
  {
   "cell_type": "markdown",
   "metadata": {},
   "source": [
    "#### 6: Print the following:\n",
    "1. Highest GPD value\n",
    "2. Lowest GDP value\n",
    "3. Mean GDP value\n",
    "4. Standardized GDP value\n",
    "5. Sum of all the GDPs"
   ]
  },
  {
   "cell_type": "code",
   "execution_count": 38,
   "metadata": {},
   "outputs": [
    {
     "data": {
      "text/plain": [
       "40034.85063"
      ]
     },
     "execution_count": 38,
     "metadata": {},
     "output_type": "execute_result"
    }
   ],
   "source": [
    "# Highest GPD value\n",
    "GDP.max()"
   ]
  },
  {
   "cell_type": "code",
   "execution_count": 39,
   "metadata": {},
   "outputs": [
    {
     "data": {
      "text/plain": [
       "229.6769525"
      ]
     },
     "execution_count": 39,
     "metadata": {},
     "output_type": "execute_result"
    }
   ],
   "source": [
    "# Lowest GDP value\n",
    "GDP.min()"
   ]
  },
  {
   "cell_type": "code",
   "execution_count": 49,
   "metadata": {},
   "outputs": [
    {
     "data": {
      "text/plain": [
       "11289.409271639684"
      ]
     },
     "execution_count": 49,
     "metadata": {},
     "output_type": "execute_result"
    }
   ],
   "source": [
    "# Mean GDP value\n",
    "k = sum(GDP)\n",
    "b = len(GDP)\n",
    "(k/b)"
   ]
  },
  {
   "cell_type": "code",
   "execution_count": 52,
   "metadata": {},
   "outputs": [
    {
     "data": {
      "text/plain": [
       "11289.409271639683"
      ]
     },
     "execution_count": 52,
     "metadata": {},
     "output_type": "execute_result"
    }
   ],
   "source": [
    "# Mean GDP value\n",
    "np.average(GDP)"
   ]
  },
  {
   "cell_type": "code",
   "execution_count": 53,
   "metadata": {},
   "outputs": [
    {
     "data": {
      "text/plain": [
       "11289.409271639683"
      ]
     },
     "execution_count": 53,
     "metadata": {},
     "output_type": "execute_result"
    }
   ],
   "source": [
    "# Mean GDP value\n",
    "GDP.mean()"
   ]
  },
  {
   "cell_type": "code",
   "execution_count": 54,
   "metadata": {},
   "outputs": [
    {
     "data": {
      "text/plain": [
       "12743.828910617945"
      ]
     },
     "execution_count": 54,
     "metadata": {},
     "output_type": "execute_result"
    }
   ],
   "source": [
    "# Standardized GDP value\n",
    "GDP.std()"
   ]
  },
  {
   "cell_type": "code",
   "execution_count": null,
   "metadata": {},
   "outputs": [],
   "source": []
  }
 ],
 "metadata": {
  "kernelspec": {
   "display_name": "Python 3",
   "language": "python",
   "name": "python3"
  },
  "language_info": {
   "codemirror_mode": {
    "name": "ipython",
    "version": 3
   },
   "file_extension": ".py",
   "mimetype": "text/x-python",
   "name": "python",
   "nbconvert_exporter": "python",
   "pygments_lexer": "ipython3",
   "version": "3.8.3"
  }
 },
 "nbformat": 4,
 "nbformat_minor": 1
}
